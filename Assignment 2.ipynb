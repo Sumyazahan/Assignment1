{
 "cells": [
  {
   "cell_type": "code",
   "execution_count": 1,
   "metadata": {},
   "outputs": [
    {
     "name": "stdout",
     "output_type": "stream",
     "text": [
      "['A', 'B', 'S', 'C', 'D', 'E', 'H', 'G', 'F']\n"
     ]
    }
   ],
   "source": [
    "##Depth First Search(DES)\n",
    "\n",
    "\n",
    "graph1 = {\n",
    "    'A' : ['B','S'],\n",
    "    'B' : ['A'],\n",
    "    'C' : ['D','E','F','S'],\n",
    "    'D' : ['C'],\n",
    "    'E' : ['C','H'],\n",
    "    'F' : ['C','G'],\n",
    "    'G' : ['F','S'],\n",
    "    'H' : ['E','G'],\n",
    "    'S' : ['A','C','G']\n",
    "}\n",
    "\n",
    "visited = []\n",
    "\n",
    "def dfs(graph,node):\n",
    "    global visited\n",
    "    if node not in visited:\n",
    "        visited.append(node)\n",
    "        for n in graph[node]:\n",
    "            dfs(graph,n)\n",
    "\n",
    "dfs(graph1,'A')\n",
    "print(visited)"
   ]
  },
  {
   "cell_type": "code",
   "execution_count": 2,
   "metadata": {},
   "outputs": [
    {
     "ename": "IndentationError",
     "evalue": "unexpected indent (<ipython-input-2-60e41954d5f5>, line 4)",
     "output_type": "error",
     "traceback": [
      "\u001b[1;36m  File \u001b[1;32m\"<ipython-input-2-60e41954d5f5>\"\u001b[1;36m, line \u001b[1;32m4\u001b[0m\n\u001b[1;33m    graph = {'A': ['B', 'C', 'E'],\u001b[0m\n\u001b[1;37m    ^\u001b[0m\n\u001b[1;31mIndentationError\u001b[0m\u001b[1;31m:\u001b[0m unexpected indent\n"
     ]
    }
   ],
   "source": [
    "##Breadth First Search(BFS)\n",
    "    \n",
    "    \n",
    "    graph = {'A': ['B', 'C', 'E'],\n",
    "             'B': ['A','D', 'E'],\n",
    "             'C': ['A', 'F', 'G'],\n",
    "             'D': ['B'],\n",
    "             'E': ['A', 'B','D'],\n",
    "             'F': ['C'],\n",
    "             'G': ['C']}\n",
    "             \n",
    "             \n",
    "    def bfs(graph, initial):\n",
    "        \n",
    "        visited = []\n",
    "        \n",
    "        queue = [initial]\n",
    "     \n",
    "        while queue:\n",
    "            \n",
    "            node = queue.pop(0)\n",
    "            if node not in visited:\n",
    "                \n",
    "                visited.append(node)\n",
    "                neighbours = graph[node]\n",
    "     \n",
    "                \n",
    "                for neighbour in neighbours:\n",
    "                    queue.append(neighbour)\n",
    "        return visited\n",
    "     \n",
    "    print(bfs(graph,'A'))\n"
   ]
  },
  {
   "cell_type": "code",
   "execution_count": null,
   "metadata": {},
   "outputs": [],
   "source": [
    "import queue as Q\n",
    "\n",
    "def search(graph, start, end):\n",
    "    if start not in graph:\n",
    "        raise TypeError(str(start) + ' not found in graph !')\n",
    "        return\n",
    "    if end not in graph:\n",
    "        raise TypeError(str(end) + ' not found in graph !')\n",
    "        return\n",
    "    \n",
    "    queue = Q.PriorityQueue()\n",
    "    queue.put((0, [start]))\n",
    "    \n",
    "    while not queue.empty():\n",
    "        node = queue.get()\n",
    "        current = node[1][len(node[1]) - 1]\n",
    "        \n",
    "        if end in node[1]:\n",
    "            print(\"Path found: \" + str(node[1]) + \", Cost = \" + str(node[0]))\n",
    "            break\n",
    "        \n",
    "        cost = node[0]\n",
    "        for neighbor in graph[current]:\n",
    "            temp = node[1][:]\n",
    "            temp.append(neighbor)\n",
    "            queue.put((cost + graph[current][neighbor], temp))\n",
    "        \n",
    "def readGraph():\n",
    "    lines = int( input() )\n",
    "    graph = {}\n",
    "    \n",
    "    for line in range(lines):\n",
    "        line = input()\n",
    "            \n",
    "        tokens = line.split()\n",
    "        node = tokens[0]\n",
    "        graph[node] = {}\n",
    "        \n",
    "        for i in range(1, len(tokens) - 1, 2):\n",
    "            # print(node, tokens[i], tokens[i + 1])\n",
    "            # graph.addEdge(node, tokens[i], int(tokens[i + 1]))\n",
    "            graph[node][tokens[i]] = int(tokens[i + 1])\n",
    "    return graph\n",
    "\n",
    "def main():\n",
    "    graph = readGraph()\n",
    "    search(graph, 'Arad', 'Bucharest')\n",
    "    \n",
    "if __name__ == \"__main__\":\n",
    "    main()"
   ]
  },
  {
   "cell_type": "code",
   "execution_count": null,
   "metadata": {},
   "outputs": [],
   "source": []
  }
 ],
 "metadata": {
  "kernelspec": {
   "display_name": "Python 2",
   "language": "python",
   "name": "python2"
  },
  "language_info": {
   "codemirror_mode": {
    "name": "ipython",
    "version": 2
   },
   "file_extension": ".py",
   "mimetype": "text/x-python",
   "name": "python",
   "nbconvert_exporter": "python",
   "pygments_lexer": "ipython2",
   "version": "2.7.16"
  }
 },
 "nbformat": 4,
 "nbformat_minor": 2
}
